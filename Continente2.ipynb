{
 "cells": [
  {
   "cell_type": "code",
   "execution_count": 42,
   "metadata": {},
   "outputs": [],
   "source": [
    "from selenium import webdriver\n",
    "from selenium.webdriver.common.keys import Keys\n",
    "from time import sleep\n",
    "from selenium.webdriver.common.by import By\n",
    "from selenium.webdriver.support.ui import WebDriverWait\n",
    "from selenium.webdriver.support import expected_conditions as ec\n",
    "import re, os, time"
   ]
  },
  {
   "cell_type": "code",
   "execution_count": 2,
   "metadata": {},
   "outputs": [],
   "source": [
    "driver = webdriver.Firefox();"
   ]
  },
  {
   "cell_type": "code",
   "execution_count": 3,
   "metadata": {},
   "outputs": [],
   "source": [
    "categorias = ['https://www.continente.pt/stores/continente/pt-pt/public/Pages/category.aspx?cat=Mercearia(eCsf_WebProductCatalog_MegastoreContinenteOnline_Continente_EUR_Colombo_PT)#/?pl=80',\n",
    "              'https://www.continente.pt/stores/continente/pt-pt/public/Pages/category.aspx?cat=bio-saudavel(eCsf_WebProductCatalog_MegastoreContinenteOnline_Continente_EUR_Colombo_PT)#/?pl=80',\n",
    "              'https://www.continente.pt/stores/continente/pt-pt/public/Pages/category.aspx?cat=Frescos(eCsf_WebProductCatalog_MegastoreContinenteOnline_Continente_EUR_Colombo_PT)#/?pl=80',\n",
    "              'https://www.continente.pt/stores/continente/pt-pt/public/Pages/category.aspx?cat=Bebidas(eCsf_WebProductCatalog_MegastoreContinenteOnline_Continente_EUR_Colombo_PT)#/?pl=80',\n",
    "              'https://www.continente.pt/stores/continente/pt-pt/public/Pages/category.aspx?cat=Lactic%C3%ADnio(eCsf_WebProductCatalog_MegastoreContinenteOnline_Continente_EUR_Colombo_PT)#/?pl=80',\n",
    "              'https://www.continente.pt/stores/continente/pt-pt/public/Pages/category.aspx?cat=Congelados(eCsf_WebProductCatalog_MegastoreContinenteOnline_Continente_EUR_Colombo_PT)#/?pl=80',\n",
    "              'https://www.continente.pt/stores/continente/pt-pt/public/Pages/category.aspx?cat=Beb%C3%A9(eCsf_WebProductCatalog_MegastoreContinenteOnline_Continente_EUR_Colombo_PT)#/?pl=80',\n",
    "              'https://www.continente.pt/stores/continente/pt-pt/public/Pages/category.aspx?cat=Higiene(eCsf_WebProductCatalog_MegastoreContinenteOnline_Continente_EUR_Colombo_PT)#/?pl=80',\n",
    "              'https://www.continente.pt/stores/continente/pt-pt/public/Pages/category.aspx?cat=beleza(eCsf_WebProductCatalog_MegastoreContinenteOnline_Continente_EUR_Colombo_PT)#/?pl=80',\n",
    "              'https://www.continente.pt/stores/continente/pt-pt/public/Pages/category.aspx?cat=Limpeza(eCsf_WebProductCatalog_MegastoreContinenteOnline_Continente_EUR_Colombo_PT)#/?pl=80',\n",
    "              'https://www.continente.pt/stores/continente/pt-pt/public/Pages/category.aspx?cat=Lazer(eCsf_WebProductCatalog_MegastoreContinenteOnline_Continente_EUR_Colombo_PT)#/?pl=80']"
   ]
  },
  {
   "cell_type": "code",
   "execution_count": 4,
   "metadata": {},
   "outputs": [],
   "source": [
    "driver.get(categorias[3])"
   ]
  },
  {
   "cell_type": "code",
   "execution_count": 25,
   "metadata": {},
   "outputs": [],
   "source": [
    "driver.execute_script(\"window.scrollTo(0, document.body.scrollHeight);\")\n",
    "#Der test\n",
    "driver.get(categorias[3])\n",
    "driver.execute_script(\"window.scrollTo(0, document.body.scrollHeight);\")\n",
    "driver.execute_script(\"window.scrollTo(0, document.body.scrollHeight);\")\n",
    "driver.refresh()\n",
    "time.sleep(20)\n",
    "cts = driver.find_element_by_xpath('//div[contains(text(), \"{0}\")]'.format('Campanhas')).click()\n",
    "driver.get(categorias[4])\n",
    "time.sleep(20)\n",
    "driver.execute_script(\"window.scrollTo(0, document.body.scrollHeight);\")\n",
    "cts = driver.find_element_by_xpath('//div[contains(text(), \"{0}\")]'.format('Campanhas')).click()"
   ]
  },
  {
   "cell_type": "code",
   "execution_count": 33,
   "metadata": {},
   "outputs": [],
   "source": [
    "driver.get(categorias[0])\n",
    "#cts = driver.find_element_by_xpath('//div[contains(text(), \"{0}\")]'.format('Campanhas')).click()"
   ]
  },
  {
   "cell_type": "code",
   "execution_count": null,
   "metadata": {},
   "outputs": [
    {
     "name": "stdout",
     "output_type": "stream",
     "text": [
      "Sanck Batatas Presunto,Pringles,emb. 190 gr,€ 1.84 ,€ 9.68 /kg,€ 2.49 ,€ 13.11 /kg,Desconto imediato: 26%\n",
      "Azeite Extra Virgem Sublime,Gallo,garrafa 75 cl,€ 2.99 ,€ 3.99 ,€ 5.99 ,€ 7.99 ,Desconto imediato: €3.00\n",
      "Leite e Cereais Pijama +6 Meses,Cerelac,emb. 2 x 200 ml,€ 1.57 ,€ 3.92 ,€ 2.09 ,€ 5.23 ,Desconto imediato: 25%\n",
      "Café Cápsulas BreaQfast,Delta Q,emb. 10 un,€ 2.77 ,€ 0.28 ,€ 3.69 ,€ 0.37 ,Desconto imediato: 25%\n",
      "Tablete de Chocolate de Leite,Regina,emb. 100 gr,€ 1.19 ,€ 11.93 /kg,€ 1.59 ,€ 15.90 /kg,Desconto imediato: 25%\n",
      "Salsichas Frankfurt Originais,Nobre,8 un,€ 0.79 ,€ 2.26 /kg,€ 1.09 ,€ 3.11 /kg,Desconto imediato: 28%\n",
      "Papa Infantil Láctea 5 Frutos +6 Meses,Cerelac,emb. 250 gr,€ 2.17 ,€ 8.67 /kg,€ 2.89 ,€ 11.56 /kg,Desconto imediato: 25%\n",
      "Óleo de Girassol Puro,Fula,emb. 1 lt,€ 1.19 ,€ 1.19 ,€ 2.19 ,€ 2.19 ,Desconto imediato: €1.00\n",
      "Azeite Extra Virgem Serra da Torre,Oliveira Da Serra,garrafa 75 cl,€ 3.89 ,€ 5.19 ,€ 5.19 ,€ 6.92 ,Desconto imediato: 25%\n",
      "Batatas Fritas Camponesa,Continente,emb. 175 gr,€ 0.74 ,€ 4.23 /kg,€ 0.89 ,€ 5.09 /kg,Desconto imediato: €0.15\n",
      "Salsichas Soja Mediterrânicas + Vida,Izidoro,emb. 5 un,€ 1.63 ,€ 4.06 /kg,€ 3.25 ,€ 8.13 /kg,Desconto imediato: 50%\n",
      "Salsichas Porco com Vegetais + Vida,Izidoro,emb. 5 un,€ 1.63 ,€ 4.06 /kg,€ 3.25 ,€ 8.13 /kg,Desconto imediato: 50%\n",
      "Molho de 3 Pimentas Cubos,Knorr,8 un,€ 1.10 ,€ 15.26 /kg,€ 1.69 ,€ 23.47 /kg,Desconto imediato: 35%\n",
      "Molho de Mostarda Cubos,Knorr,8 un,€ 1.10 ,€ 15.26 /kg,€ 1.69 ,€ 23.47 /kg,Desconto imediato: 35%\n",
      "Bolachas Vitalday Crocante Original,Gullón,emb. 265 gr,€ 0.99 ,€ 3.74 /kg,€ 1.99 ,€ 7.51 /kg,Desconto imediato: €1.00\n",
      "Bolachas Vitalday Recheio Iogurte,Gullón,emb. 220 gr,€ 1.09 ,€ 4.95 /kg,€ 2.19 ,€ 9.95 /kg,Desconto imediato: €1.10\n",
      "Bolachas Vitalday Crocante Chocolate Integrais,Gullón,emb. 280 gr,€ 0.99 ,€ 3.54 /kg,€ 1.99 ,€ 7.11 /kg,Desconto imediato: €1.00\n",
      "Bolachas Vitalday Recheio Avelã,Gullón,emb. 220 gr,€ 1.09 ,€ 4.95 /kg,€ 2.19 ,€ 9.95 /kg,Desconto imediato: €1.10\n",
      "Salsichas Frango Cuida-T Frasco,Nobre,emb. 430 gr,€ 1.49 ,€ 3.47 /kg,€ 1.99 ,€ 4.63 /kg,Desconto imediato: 25%\n",
      "Salsichas Peru Cuida-T Frasco,Nobre,emb. 430 gr,€ 1.49 ,€ 3.47 /kg,€ 1.99 ,€ 4.63 /kg,Desconto imediato: 25%\n",
      "Bolachas Cookies Sensations,Milka,emb. 182 gr,€ 1.94 ,€ 10.67 /kg,€ 2.59 ,€ 14.23 /kg,Desconto imediato: 25%\n",
      "Farinha de Coco Biológica,Seara,emb. 250 gr,€ 1.86 ,€ 7.44 /kg,€ 2.49 ,€ 9.96 /kg,Desconto imediato: €0.63\n",
      "Tablete de Chocolate Leite com Caramelo,Nestlé,emb. 100 gr,€ 1.04 ,€ 10.43 /kg,€ 1.39 ,€ 13.90 /kg,Desconto imediato: 25%\n",
      "Tablete de Chocolate Preto com Trufa,Nestlé,emb. 100 gr,€ 1.04 ,€ 10.43 /kg,€ 1.39 ,€ 13.90 /kg,Desconto imediato: 25%\n",
      "Atum ao Natural,Continente,emb. 120 gr,€ 0.79 ,€ 6.58 /kg,€ 0.95 ,€ 7.92 /kg,Desconto imediato: €0.16\n",
      "Atum Óleo,Continente,emb. 120 gr,€ 0.79 ,€ 6.58 /kg,€ 0.95 ,€ 7.92 /kg,Desconto imediato: €0.16\n",
      "Batata Frita Caseira Palha,Pála-Pála,emb. 250 gr,€ 1.19 ,€ 4.76 /kg,€ 1.89 ,€ 7.56 /kg,Desconto imediato: €0.70\n",
      "Batata Frita Caseira Rodelas,Pála-Pála,emb. 300 gr,€ 1.19 ,€ 3.97 /kg,€ 1.89 ,€ 6.30 /kg,Desconto imediato: €0.70\n",
      "Maionese Light Top Down,Calvé,emb. 447 gr,€ 1.55 ,€ 3.48 /kg,€ 2.39 ,€ 5.35 /kg,Desconto imediato: 35%\n",
      "Caldo Natural Galinha,Knorr,emb. 4 x 28 gr,€ 0.97 ,€ 8.65 /kg,€ 1.49 ,€ 13.30 /kg,Desconto imediato: 35%\n",
      "Caldo Natural Carne,Knorr,emb. 4 x 28 gr,€ 0.97 ,€ 8.65 /kg,€ 1.49 ,€ 13.30 /kg,Desconto imediato: 35%\n",
      "Caldo Natural Legumes,Knorr,emb. 4 x 28 gr,€ 0.97 ,€ 8.65 /kg,€ 1.49 ,€ 13.30 /kg,Desconto imediato: 35%\n",
      "Salsichas Naturíssimos de Peru,Nobre,8 un,€ 0.89 ,€ 2.47 /kg,€ 1.25 ,€ 3.47 /kg,Desconto imediato: 29%\n",
      "Salsichas Naturíssimos de Frango,Nobre,8 un,€ 0.89 ,€ 2.47 /kg,€ 1.25 ,€ 3.47 /kg,Desconto imediato: 29%\n",
      "Papa Infantil Não Láctea Bolacha Maria +6 Meses,Cerelac,emb. 250 gr,€ 1.57 ,€ 6.27 /kg,€ 2.09 ,€ 8.36 /kg,Desconto imediato: 25%\n",
      "Leite de Transição 3 +10 Meses,Nan Optipro,emb. 800 gr,€ 10.79 ,€ 13.49 /kg,€ 13.49 ,€ 16.86 /kg,Desconto imediato: 20%\n",
      "Bolo Bombon Chocolate,Donuts,4 un,€ 1.29 ,€ 6.86 /kg,€ 2.59 ,€ 13.78 /kg,Desconto imediato: €1.30\n",
      "Tablete Chocolate Morango,Regina,emb. 100 gr,€ 1.49 ,€ 14.93 /kg,€ 1.99 ,€ 19.90 /kg,Desconto imediato: 25%\n",
      "Salsichas Cocktail,Nobre,emb. 200 gr,€ 1.49 ,€ 4.15 /kg,€ 1.99 ,€ 5.53 /kg,Desconto imediato: 25%\n",
      "Salsichas Hotdog,Nobre,4 un,€ 1.49 ,€ 3.47 /kg,€ 1.99 ,€ 4.63 /kg,Desconto imediato: 25%\n",
      "Salsichas Alemãs Wienerwurst,Nobre,5 un,€ 1.49 ,€ 3.39 /kg,€ 1.99 ,€ 4.52 /kg,Desconto imediato: 25%\n",
      "Farinha Fuba de Milho,Nacional,1 kg,€ 0.92 ,€ 0.92 /kg,€ 1.32 ,€ 1.32 /kg,Desconto imediato: 30%\n",
      "Bolachas Cobertura Chocolate Preto,Continente,emb. 150 gr,€ 0.97 ,€ 6.47 /kg,€ 1.15 ,€ 7.67 /kg,Desconto imediato: €0.18\n",
      "Bolachas Cobertas Chocolate Branco,Continente,emb. 150 gr,€ 0.97 ,€ 6.47 /kg,€ 1.15 ,€ 7.67 /kg,Desconto imediato: €0.18\n",
      "Snacks Batata Queijo & Cebola,Pringles,emb. 190 gr,€ 1.84 ,€ 9.68 /kg,€ 2.49 ,€ 13.11 /kg,Desconto imediato: 26%\n",
      "Snack Batatas Original,Pringles,emb. 190 gr,€ 1.84 ,€ 9.68 /kg,€ 2.49 ,€ 13.11 /kg,Desconto imediato: 26%\n",
      "Snacks Batatas Hot & Spicy,Pringles,emb. 190 gr,€ 1.84 ,€ 9.68 /kg,€ 2.49 ,€ 13.11 /kg,Desconto imediato: 26%\n",
      "Snacks Batatas Paprika,Pringles,emb. 190 gr,€ 1.84 ,€ 9.68 /kg,€ 2.49 ,€ 13.11 /kg,Desconto imediato: 26%\n",
      "Ketchup Top Down,Calvé,emb. 250 gr,€ 1.03 ,€ 3.76 /kg,€ 1.59 ,€ 5.78 /kg,Desconto imediato: 35%\n",
      "Papa Infantil Para Preparar com Leite +6 Meses,Cerelac,emb. 750 gr,€ 2.99 ,€ 3.99 /kg,€ 3.99 ,€ 5.32 /kg,Desconto imediato: 25%\n",
      "Tablete Excellence Morango,Lindt,emb. 100 gr,€ 2.17 ,€ 21.67 /kg,€ 2.89 ,€ 28.90 /kg,Desconto imediato: 25%\n",
      "Salsichas Bockwurst,Izidoro,8 un,€ 1.60 ,€ 4.04 /kg,€ 3.19 ,€ 8.08 /kg,Desconto imediato: 50%\n",
      "Leite Condensado Magro,Nestlé,emb. 387 gr,€ 1.16 ,€ 2.98 /kg,€ 1.54 ,€ 3.98 /kg,Desconto imediato: 25%\n",
      "Tablete Chocolate Preto 73% Cacau,Ritter,emb. 100 gr,€ 1.42 ,€ 14.18 /kg,€ 1.89 ,€ 18.90 /kg,Desconto imediato: 25%\n",
      "Mostarda Dijon Original,Maille,emb. 215 gr,€ 1.81 ,€ 8.43 /kg,€ 2.79 ,€ 12.98 /kg,Desconto imediato: 35%\n",
      "Mostarda L'ancienne,Maille,emb. 210 gr,€ 1.81 ,€ 8.64 /kg,€ 2.79 ,€ 13.29 /kg,Desconto imediato: 35%\n",
      "Tablete Chocolate Preto Laranja Les Recettes de L'Atelier,Nestlé,emb.115 gr,€ 2.24 ,€ 19.50 /kg,€ 2.99 ,€ 26.00 /kg,Desconto imediato: 25%\n",
      "Massa Linguini Alentejo,Nacional,emb. 500gr,€ 0.90 ,€ 1.81 /kg,€ 1.29 ,€ 2.58 /kg,Desconto imediato: 30%\n",
      "Salsicha de Porco Bockwurst,Izidoro,emb. 220 gr,€ 1.25 ,€ 5.66 /kg,€ 2.49 ,€ 11.32 /kg,Desconto imediato: 50%\n",
      "Filetes de Atum em Azeite,Continente,emb. 120 gr,€ 1.39 ,€ 11.58 /kg,€ 1.55 ,€ 12.92 /kg,Desconto imediato: €0.16\n",
      "Filetes de Atum ao Natural,Continente,emb. 120 gr,€ 1.39 ,€ 11.58 /kg,€ 1.55 ,€ 12.92 /kg,Desconto imediato: €0.16\n",
      "Café Solúvel,Nescafé Alta Rica,emb. 100 gr,€ 2.65 ,€ 26.45 ,€ 5.29 ,€ 52.90 ,Desconto imediato: 50%\n",
      "Café Delizioso Cápsulas,L'or,10 un,€ 2.81 ,€ 0.28 ,€ 3.75 ,€ 0.38 ,Desconto imediato: 25%\n",
      "Café Splendente Cápsulas,L'or,10 un,€ 2.81 ,€ 0.28 ,€ 3.75 ,€ 0.38 ,Desconto imediato: 25%\n",
      "Café Lungo Profondo Cápsulas,L'or,10 un,€ 2.81 ,€ 0.28 ,€ 3.75 ,€ 0.38 ,Desconto imediato: 25%\n",
      "Café Espresso Decaffeinato Cápsulas,L'or,10 un,€ 2.81 ,€ 0.28 ,€ 3.75 ,€ 0.38 ,Desconto imediato: 25%\n",
      "Coucous Cup Caril,Maggi,emb. 70 gr,€ 0.99 ,€ 14.14 /kg,€ 1.59 ,€ 22.71 /kg,Desconto imediato: €0.60\n",
      "Massa Cup Molho de Cogumelos,Maggi,emb. 53 gr,€ 0.99 ,€ 18.68 /kg,€ 1.59 ,€ 30.00 /kg,Desconto imediato: €0.60\n",
      "Infusão Boost Preto,Tetley,20 un,€ 2.69 ,€ 0.13 ,€ 3.59 ,€ 0.18 ,Desconto imediato: 25%\n",
      "Papa Infantil Farinha Láctea 40% menos açúcares +6 meses,Cerelac,emb. 1 kg,€ 4.57 ,€ 4.57 /kg,€ 6.09 ,€ 6.09 /kg,Desconto imediato: 25%\n",
      "Tablete Ruby Framboesa Les Recettes de L'Atelier,Nestlé,emb.100 gr,€ 2.99 ,€ 29.92 /kg,€ 3.99 ,€ 39.90 /kg,Desconto imediato: 25%\n",
      "Tablete Excellence Leite,Lindt,emb. 100 gr,€ 1.19 ,€ 11.93 /kg,€ 1.59 ,€ 15.90 /kg,Desconto imediato: 25%\n",
      "Café solúvel Vitalissimo,Nescafé,emb. 200 gr,€ 3.44 ,€ 17.20 /kg,€ 6.89 ,€ 34.45 /kg,Desconto imediato: €3.45\n",
      "Óleo de Milho Puro,Fula,1 lt,€ 2.06 ,€ 2.06 ,€ 2.75 ,€ 2.75 ,Desconto imediato: 25%\n",
      "Massa Linguini com Vegetais,Nacional,emb.500 gr,€ 0.95 ,€ 1.89 /kg,€ 1.35 ,€ 2.70 /kg,Desconto imediato: 30%\n",
      "Macarronete com Vegetais,Nacional,emb.500 gr,€ 0.95 ,€ 1.89 /kg,€ 1.35 ,€ 2.70 /kg,Desconto imediato: 30%\n"
     ]
    },
    {
     "name": "stdout",
     "output_type": "stream",
     "text": [
      "Massa Cristas,Nacional,emb. 500 gr,€ 0.76 ,€ 1.53 /kg,€ 1.09 ,€ 2.18 /kg,Desconto imediato: 30%\n",
      "Cereais Alphabet Nesquik,Nestlé,emb.325 gr,€ 1.59 ,€ 1.59 ,€ 2.69 ,€ 2.69 ,Desconto imediato: €1.10\n",
      "Arroz Extra Longo Integral,Caçarola,emb. 1 kg,€ 1.27 ,€ 1.27 /kg,€ 1.69 ,€ 1.69 /kg,Desconto imediato: 25%\n",
      "Atum em Azeite,Bom Petisco,emb. 200 gr,€ 2.20 ,€ 11.00 /kg,€ 2.94 ,€ 14.70 /kg,Desconto imediato: €0.74\n",
      "Sanck Batatas Presunto,Pringles,emb. 190 gr,€ 1.84 ,€ 9.68 /kg,€ 2.49 ,€ 13.11 /kg,Desconto imediato: 26%\n",
      "Óleo Alimentar Especial Fritura,Fula,emb. 1 lt,€ 1.79 ,€ 1.79 ,€ 2.39 ,€ 2.39 ,Desconto imediato: 25%\n",
      "Infusão de Frutos Vermelhos saquetas,Tetley,10 un,€ 1.04 ,€ 0.10 ,€ 1.39 ,€ 0.14 ,Desconto imediato: 25%\n",
      "Infusão Menta Pyramid,Lipton,20 un,€ 1.19 ,€ 0.06 ,€ 1.59 ,€ 0.08 ,Desconto imediato: 25%\n",
      "Tablete Chocolate Leite 50% Cacau Equador,Cemoi,emb. 100 gr,€ 1.86 ,€ 18.60 /kg,€ 2.49 ,€ 24.90 /kg,Desconto imediato: €0.63\n",
      "Mistura de Cogumelos 4 Variedades,Continente,emb. 175 gr,€ 1.69 ,€ 5.83 /kg,€ 1.89 ,€ 6.52 /kg,Desconto imediato: €0.20\n",
      "Leite 1,Aptamil,emb. 800 gr,€ 13.69 ,€ 17.11 /kg\n",
      "Pastilhas Elásticas Max II Peppermint,Trident,emb. 23 gr,€ 0.95 ,€ 41.30 /kg\n",
      "Fermento Padeiro,Vahiné,emb. 4 x 4.6 gr,€ 1.59 ,€ 88.33 /kg\n",
      "Segredos Porco,Margão,emb. 34 gr,€ 2.29 ,€ 67.35 /kg\n",
      "Caramelo Werthers Original sem Açúcar,Werther's,emb. 90 gr,€ 2.49 ,€ 27.67 /kg\n",
      "Azeitonas Pretas,Maçarico,emb. 360 gr,€ 2.17 ,€ 6.03 /kg\n",
      "Rebuçados Special Coffee,Drops Nazaré,emb. 250 gr,€ 1.49 ,€ 5.96 /kg\n",
      "Leite Confort 1,Aptamil,emb. 400 gr,€ 8.45 ,€ 21.13 /kg\n",
      "Chupa Chupa Formato Treinador,Chocobelle,emb. 90 gr,€ 1.34 ,€ 14.89 /kg\n",
      "Pasta Açúcar Branca,Dr. Oetker,emb. 300 gr,€ 4.29 ,€ 14.30 /kg\n",
      "Cereais Sem Glúten Corn Flakes,Nestlé,emb. 375 gr,€ 2.49 ,€ 6.64 /kg\n",
      "Refeição de Vitela com Legumes - 6 Meses,Blédina,emb. 200 gr,€ 1.59 ,€ 7.95 /kg\n",
      "Chocolate em Pó,Espiga,emb. 125 gr,€ 0.99 ,€ 7.92 /kg\n",
      "Cereais Krave Trésor Avelã,Kellogg's,emb. 375 gr,€ 3.29 ,€ 8.77 /kg\n",
      "Farinha de Mandioca,Globo,emb. 500 gr,€ 1.89 ,€ 3.78 /kg\n",
      "Pickles,Continente,emb. 345 gr,€ 0.78 ,€ 2.26 /kg\n",
      "Tarteletes Creme Leite + Caramelo Saquetas,Vieira,emb. 4 x 44 gr,€ 2.44 ,€ 13.86 /kg\n"
     ]
    }
   ],
   "source": [
    "p_db : list = [];\n",
    "p : int = 0;\n",
    "while True:\n",
    "    \n",
    "    #prods : list = driver.find_elements_by_class_name('productItem');\n",
    "    wait = WebDriverWait(driver, 10)\n",
    "    #prods : list = driver.find_elements_by_class_name('productItem');\n",
    "    x = wait.until(ec.visibility_of_element_located((By.XPATH, \"//div[@class='productItem']\")))\n",
    "    prods : list = driver.find_elements_by_class_name('productItem');\n",
    "    i : int;\n",
    "    for i in range(len(prods)):\n",
    "        try:\n",
    "            pp : str = prods[i].text.replace(',', '.').replace('\\n', ',').replace('/un', '').replace('/lt', '');\n",
    "            print(pp)\n",
    "        except:\n",
    "            pass\n",
    "        if 'Desconto imediato:' not in pp:\n",
    "            break\n",
    "        else:\n",
    "            p_db.append([pp])\n",
    "    \n",
    "    for p in range(len(p_db)):\n",
    "        prodline = '{}\\n'.format(p_db[p])\n",
    "        with open('mercearia.db', 'a') as f:\n",
    "            f.write(prodline)\n",
    "            \n",
    "    \n",
    "    #men_menu = wait.until(ec.visibility_of_element_located((By.XPATH, \"//a[@data-tracking-id='men']\")))\n",
    "            \n",
    "    driver.execute_script(\"window.scrollTo(0, document.body.scrollHeight);\")\n",
    "    next_page = driver.find_element_by_class_name('next').click()"
   ]
  },
  {
   "cell_type": "code",
   "execution_count": 35,
   "metadata": {},
   "outputs": [],
   "source": [
    "next_page = driver.find_element_by_class_name('next').click()"
   ]
  }
 ],
 "metadata": {
  "kernelspec": {
   "display_name": "Python 3",
   "language": "python",
   "name": "python3"
  },
  "language_info": {
   "codemirror_mode": {
    "name": "ipython",
    "version": 3
   },
   "file_extension": ".py",
   "mimetype": "text/x-python",
   "name": "python",
   "nbconvert_exporter": "python",
   "pygments_lexer": "ipython3",
   "version": "3.6.8"
  }
 },
 "nbformat": 4,
 "nbformat_minor": 2
}
