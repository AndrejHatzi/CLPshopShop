{
 "cells": [
  {
   "cell_type": "code",
   "execution_count": 1,
   "metadata": {},
   "outputs": [],
   "source": [
    "from selenium import webdriver\n",
    "from selenium.webdriver.common.keys import Keys\n",
    "from time import sleep\n",
    "import re, os, time"
   ]
  },
  {
   "cell_type": "code",
   "execution_count": 2,
   "metadata": {},
   "outputs": [],
   "source": [
    "driver = webdriver.Firefox();"
   ]
  },
  {
   "cell_type": "code",
   "execution_count": 3,
   "metadata": {},
   "outputs": [],
   "source": [
    "driver.get('https://www.continente.pt/stores/continente/pt-pt/public/Pages/category.aspx?cat=Mercearia(eCsf_WebProductCatalog_MegastoreContinenteOnline_Continente_EUR_Colombo_PT)#/?pl=80')\n",
    "#driver.get('https://www.continente.pt/stores/continente/pt-pt/public/Pages/category.aspx?cat=bio-saudavel(eCsf_WebProductCatalog_MegastoreContinenteOnline_Continente_EUR_Colombo_PT)#');"
   ]
  },
  {
   "cell_type": "code",
   "execution_count": 6,
   "metadata": {},
   "outputs": [],
   "source": [
    "#driver.find_element_by_xpath('//li[@class=\"selected\"]//div[@class=\"text ecsfSortName\"]').click()\n",
    "#driver.find_element_by_css_selector('.orderOptions > ul:nth-child(1) > li:nth-child(6) > div:nth-child(1)').click()\n",
    "#driver.find_element_by_class_name('text ecsfSortName').click()\n",
    "driver.find_element_by_xpath('//div[@class=\"contentLeft\"]//ul//li[6]//div[1]').click()"
   ]
  },
  {
   "cell_type": "code",
   "execution_count": 22,
   "metadata": {},
   "outputs": [
    {
     "name": "stdout",
     "output_type": "stream",
     "text": [
      "https://www.continente.pt/stores/continente/pt-pt/public/Pages/ProductDetail.aspx?ProductId=5726871(eCsf_RetekProductCatalog_MegastoreContinenteOnline_Continente)&refiner=%23%2F%3Fpl%3D80\n",
      "['Massa Farfallete', 'Divella', 'emb. 500 gr']\n",
      "1.09\n"
     ]
    }
   ],
   "source": [
    "link : str = driver.find_element_by_class_name('ecsf_QuerySuggestions').get_attribute('href')\n",
    "caracteristicas : list = driver.find_element_by_class_name('containerDescription').text.split('\\n')\n",
    "preco : str = driver.find_element_by_class_name('priceFirstRow').text.replace('€', '').replace('/un', '')\n",
    "preco : str = preco.replace(',', '.').replace(' ', '')\n",
    "print(link)\n",
    "print(nome_produto)\n",
    "print(preco)"
   ]
  },
  {
   "cell_type": "code",
   "execution_count": 23,
   "metadata": {},
   "outputs": [],
   "source": [
    "#//div[@class='gridRow']//div[1]//div[1]//div[1]//div[6]//div[1]//div[1]//div[1] -- 1º Produto\n",
    "#//div[@class='gridRow']//div[2]//div[1]//div[1]//div[6]//div[1]//div[1]//div[1] -- 2º Produto\n",
    "#//div[@class='gridRow']//div[80]//div[1]//div[1]//div[6]//div[1]//div[1]//div[1] -- 80º Produto\n",
    "\n",
    "#/html[1]/body[1]/form[1]/div[3]/div[1]/div[3]/ul[1]/li[15]/div[2]/a[1]\n",
    "#/html[1]/body[1]/form[1]/div[3]/div[1]/div[3]/ul[1]/li[4]/div[2]/a[1]\n",
    "# /html[1]/body[1]/form[1]/div[3]/div[1]/div[3]/ul[1]/li[2]/div[2]/a[1]\n",
    "\n",
    "#/html/body/form/div[3]/div[1]/div[4]/ul/li[2]/div[2]/a\n",
    "\n",
    "\n",
    "#ahref -> /html/body/form/div[3]/div[1]/div[4]/ul/li[2]/div[4]/div/div[1]/ul/li[{}]/a"
   ]
  },
  {
   "cell_type": "code",
   "execution_count": 59,
   "metadata": {},
   "outputs": [
    {
     "name": "stdout",
     "output_type": "stream",
     "text": [
      "\n"
     ]
    },
    {
     "ename": "NoSuchElementException",
     "evalue": "Message: Unable to locate element: /html/body/form/div[3]/div[1]/div[4]/ul/li[3]/div[4]/div/div[1]/ul/li[1]/a\n",
     "output_type": "error",
     "traceback": [
      "\u001b[1;31m---------------------------------------------------------------------------\u001b[0m",
      "\u001b[1;31mNoSuchElementException\u001b[0m                    Traceback (most recent call last)",
      "\u001b[1;32m<ipython-input-59-2743427b4a65>\u001b[0m in \u001b[0;36m<module>\u001b[1;34m\u001b[0m\n\u001b[0;32m      1\u001b[0m \u001b[1;32mfor\u001b[0m \u001b[0ma\u001b[0m \u001b[1;32min\u001b[0m \u001b[0mrange\u001b[0m\u001b[1;33m(\u001b[0m\u001b[1;36m2\u001b[0m\u001b[1;33m,\u001b[0m \u001b[1;36m16\u001b[0m\u001b[1;33m)\u001b[0m\u001b[1;33m:\u001b[0m\u001b[1;33m\u001b[0m\u001b[1;33m\u001b[0m\u001b[0m\n\u001b[1;32m----> 2\u001b[1;33m     \u001b[0maba\u001b[0m \u001b[1;33m=\u001b[0m \u001b[0mdriver\u001b[0m\u001b[1;33m.\u001b[0m\u001b[0mfind_element_by_xpath\u001b[0m\u001b[1;33m(\u001b[0m\u001b[1;33m(\u001b[0m\u001b[1;34m'/html/body/form/div[3]/div[1]/div[4]/ul/li[{}]/div[4]/div/div[1]/ul/li[1]/a'\u001b[0m\u001b[1;33m.\u001b[0m\u001b[0mformat\u001b[0m\u001b[1;33m(\u001b[0m\u001b[0ma\u001b[0m\u001b[1;33m)\u001b[0m\u001b[1;33m)\u001b[0m\u001b[1;33m)\u001b[0m\u001b[1;33m.\u001b[0m\u001b[0mtext\u001b[0m\u001b[1;33m\u001b[0m\u001b[1;33m\u001b[0m\u001b[0m\n\u001b[0m\u001b[0;32m      3\u001b[0m     \u001b[0mprint\u001b[0m\u001b[1;33m(\u001b[0m\u001b[0maba\u001b[0m\u001b[1;33m)\u001b[0m\u001b[1;33m\u001b[0m\u001b[1;33m\u001b[0m\u001b[0m\n",
      "\u001b[1;32m~\\Anaconda3\\lib\\site-packages\\selenium\\webdriver\\remote\\webdriver.py\u001b[0m in \u001b[0;36mfind_element_by_xpath\u001b[1;34m(self, xpath)\u001b[0m\n\u001b[0;32m    392\u001b[0m             \u001b[0melement\u001b[0m \u001b[1;33m=\u001b[0m \u001b[0mdriver\u001b[0m\u001b[1;33m.\u001b[0m\u001b[0mfind_element_by_xpath\u001b[0m\u001b[1;33m(\u001b[0m\u001b[1;34m'//div/td[1]'\u001b[0m\u001b[1;33m)\u001b[0m\u001b[1;33m\u001b[0m\u001b[1;33m\u001b[0m\u001b[0m\n\u001b[0;32m    393\u001b[0m         \"\"\"\n\u001b[1;32m--> 394\u001b[1;33m         \u001b[1;32mreturn\u001b[0m \u001b[0mself\u001b[0m\u001b[1;33m.\u001b[0m\u001b[0mfind_element\u001b[0m\u001b[1;33m(\u001b[0m\u001b[0mby\u001b[0m\u001b[1;33m=\u001b[0m\u001b[0mBy\u001b[0m\u001b[1;33m.\u001b[0m\u001b[0mXPATH\u001b[0m\u001b[1;33m,\u001b[0m \u001b[0mvalue\u001b[0m\u001b[1;33m=\u001b[0m\u001b[0mxpath\u001b[0m\u001b[1;33m)\u001b[0m\u001b[1;33m\u001b[0m\u001b[1;33m\u001b[0m\u001b[0m\n\u001b[0m\u001b[0;32m    395\u001b[0m \u001b[1;33m\u001b[0m\u001b[0m\n\u001b[0;32m    396\u001b[0m     \u001b[1;32mdef\u001b[0m \u001b[0mfind_elements_by_xpath\u001b[0m\u001b[1;33m(\u001b[0m\u001b[0mself\u001b[0m\u001b[1;33m,\u001b[0m \u001b[0mxpath\u001b[0m\u001b[1;33m)\u001b[0m\u001b[1;33m:\u001b[0m\u001b[1;33m\u001b[0m\u001b[1;33m\u001b[0m\u001b[0m\n",
      "\u001b[1;32m~\\Anaconda3\\lib\\site-packages\\selenium\\webdriver\\remote\\webdriver.py\u001b[0m in \u001b[0;36mfind_element\u001b[1;34m(self, by, value)\u001b[0m\n\u001b[0;32m    976\u001b[0m         return self.execute(Command.FIND_ELEMENT, {\n\u001b[0;32m    977\u001b[0m             \u001b[1;34m'using'\u001b[0m\u001b[1;33m:\u001b[0m \u001b[0mby\u001b[0m\u001b[1;33m,\u001b[0m\u001b[1;33m\u001b[0m\u001b[1;33m\u001b[0m\u001b[0m\n\u001b[1;32m--> 978\u001b[1;33m             'value': value})['value']\n\u001b[0m\u001b[0;32m    979\u001b[0m \u001b[1;33m\u001b[0m\u001b[0m\n\u001b[0;32m    980\u001b[0m     \u001b[1;32mdef\u001b[0m \u001b[0mfind_elements\u001b[0m\u001b[1;33m(\u001b[0m\u001b[0mself\u001b[0m\u001b[1;33m,\u001b[0m \u001b[0mby\u001b[0m\u001b[1;33m=\u001b[0m\u001b[0mBy\u001b[0m\u001b[1;33m.\u001b[0m\u001b[0mID\u001b[0m\u001b[1;33m,\u001b[0m \u001b[0mvalue\u001b[0m\u001b[1;33m=\u001b[0m\u001b[1;32mNone\u001b[0m\u001b[1;33m)\u001b[0m\u001b[1;33m:\u001b[0m\u001b[1;33m\u001b[0m\u001b[1;33m\u001b[0m\u001b[0m\n",
      "\u001b[1;32m~\\Anaconda3\\lib\\site-packages\\selenium\\webdriver\\remote\\webdriver.py\u001b[0m in \u001b[0;36mexecute\u001b[1;34m(self, driver_command, params)\u001b[0m\n\u001b[0;32m    319\u001b[0m         \u001b[0mresponse\u001b[0m \u001b[1;33m=\u001b[0m \u001b[0mself\u001b[0m\u001b[1;33m.\u001b[0m\u001b[0mcommand_executor\u001b[0m\u001b[1;33m.\u001b[0m\u001b[0mexecute\u001b[0m\u001b[1;33m(\u001b[0m\u001b[0mdriver_command\u001b[0m\u001b[1;33m,\u001b[0m \u001b[0mparams\u001b[0m\u001b[1;33m)\u001b[0m\u001b[1;33m\u001b[0m\u001b[1;33m\u001b[0m\u001b[0m\n\u001b[0;32m    320\u001b[0m         \u001b[1;32mif\u001b[0m \u001b[0mresponse\u001b[0m\u001b[1;33m:\u001b[0m\u001b[1;33m\u001b[0m\u001b[1;33m\u001b[0m\u001b[0m\n\u001b[1;32m--> 321\u001b[1;33m             \u001b[0mself\u001b[0m\u001b[1;33m.\u001b[0m\u001b[0merror_handler\u001b[0m\u001b[1;33m.\u001b[0m\u001b[0mcheck_response\u001b[0m\u001b[1;33m(\u001b[0m\u001b[0mresponse\u001b[0m\u001b[1;33m)\u001b[0m\u001b[1;33m\u001b[0m\u001b[1;33m\u001b[0m\u001b[0m\n\u001b[0m\u001b[0;32m    322\u001b[0m             response['value'] = self._unwrap_value(\n\u001b[0;32m    323\u001b[0m                 response.get('value', None))\n",
      "\u001b[1;32m~\\Anaconda3\\lib\\site-packages\\selenium\\webdriver\\remote\\errorhandler.py\u001b[0m in \u001b[0;36mcheck_response\u001b[1;34m(self, response)\u001b[0m\n\u001b[0;32m    240\u001b[0m                 \u001b[0malert_text\u001b[0m \u001b[1;33m=\u001b[0m \u001b[0mvalue\u001b[0m\u001b[1;33m[\u001b[0m\u001b[1;34m'alert'\u001b[0m\u001b[1;33m]\u001b[0m\u001b[1;33m.\u001b[0m\u001b[0mget\u001b[0m\u001b[1;33m(\u001b[0m\u001b[1;34m'text'\u001b[0m\u001b[1;33m)\u001b[0m\u001b[1;33m\u001b[0m\u001b[1;33m\u001b[0m\u001b[0m\n\u001b[0;32m    241\u001b[0m             \u001b[1;32mraise\u001b[0m \u001b[0mexception_class\u001b[0m\u001b[1;33m(\u001b[0m\u001b[0mmessage\u001b[0m\u001b[1;33m,\u001b[0m \u001b[0mscreen\u001b[0m\u001b[1;33m,\u001b[0m \u001b[0mstacktrace\u001b[0m\u001b[1;33m,\u001b[0m \u001b[0malert_text\u001b[0m\u001b[1;33m)\u001b[0m\u001b[1;33m\u001b[0m\u001b[1;33m\u001b[0m\u001b[0m\n\u001b[1;32m--> 242\u001b[1;33m         \u001b[1;32mraise\u001b[0m \u001b[0mexception_class\u001b[0m\u001b[1;33m(\u001b[0m\u001b[0mmessage\u001b[0m\u001b[1;33m,\u001b[0m \u001b[0mscreen\u001b[0m\u001b[1;33m,\u001b[0m \u001b[0mstacktrace\u001b[0m\u001b[1;33m)\u001b[0m\u001b[1;33m\u001b[0m\u001b[1;33m\u001b[0m\u001b[0m\n\u001b[0m\u001b[0;32m    243\u001b[0m \u001b[1;33m\u001b[0m\u001b[0m\n\u001b[0;32m    244\u001b[0m     \u001b[1;32mdef\u001b[0m \u001b[0m_value_or_default\u001b[0m\u001b[1;33m(\u001b[0m\u001b[0mself\u001b[0m\u001b[1;33m,\u001b[0m \u001b[0mobj\u001b[0m\u001b[1;33m,\u001b[0m \u001b[0mkey\u001b[0m\u001b[1;33m,\u001b[0m \u001b[0mdefault\u001b[0m\u001b[1;33m)\u001b[0m\u001b[1;33m:\u001b[0m\u001b[1;33m\u001b[0m\u001b[1;33m\u001b[0m\u001b[0m\n",
      "\u001b[1;31mNoSuchElementException\u001b[0m: Message: Unable to locate element: /html/body/form/div[3]/div[1]/div[4]/ul/li[3]/div[4]/div/div[1]/ul/li[1]/a\n"
     ]
    }
   ],
   "source": [
    "for a in range(2, 16):\n",
    "    aba = driver.find_element_by_xpath(('/html/body/form/div[3]/div[1]/div[4]/ul/li[{}]/div[4]/div/div[1]/ul/li[1]/a'.format(a))).text\n",
    "    print(aba)"
   ]
  },
  {
   "cell_type": "code",
   "execution_count": null,
   "metadata": {},
   "outputs": [],
   "source": [
    "def retirar_produtos() -> None:\n",
    "    "
   ]
  },
  {
   "cell_type": "code",
   "execution_count": 53,
   "metadata": {},
   "outputs": [
    {
     "name": "stdout",
     "output_type": "stream",
     "text": [
      "nome:  Ananás em Calda,Benimar,emb. 810 gr 1.09 -> 1.45 -> 25%\n",
      "nome:  Batata Frita Ondulada com Sabor Molho Valentina Madre Mia,Continente,emb. 135 gr 1.99 -> 2.39 -> €0,40\n",
      "nome:  Fantasia Chocolate Moedas Saco,Disney,emb. 50 gr 0.99 -> 1.39 -> €0,40\n",
      "nome:  Marmelada,Casa Da Prisca,1 un = 200 gr 1.00 -> 1.99 -> 50%\n",
      "nome:  Batata Frita Ondulada com Sabor a Alho Madre Mia,Continente,emb. 135 gr 5.59 -> 6.99 -> 20%\n",
      "nome:  Massa Tagliatelle com Ovo,Divella,emb. 500 gr 0.99 -> 1.39 -> €0,40\n",
      "nome:  Cenoura Ralada Vinagre,Continente,emb. 345 gr 1.79 -> 2.39 -> 25%\n",
      "nome:  Corações de Alcachofra,Continente,emb. 390 gr 0.99 -> 1.19 -> €0,20\n",
      "nome:  Massa Penne Zit Rigate,Divella,emb. 500 gr 1.89 -> 2.09 -> €0,20\n",
      "nome:  Massa Sedani Rigati,Massimo,emb. 500 gr 0.97 -> 1.29 -> 25%\n",
      "nome:  Massa Bavettine,Divella,emb. 500 gr 0.44 -> 0.89 -> €0,45\n",
      "nome:  Massa Lasanha com Ovo,Divella,emb. 500 gr 0.97 -> 1.29 -> 25%\n",
      "nome:  Cereais Estrelinhas Chocolate,Continente,emb. 375 gr 1.87 -> 2.49 -> 25%\n",
      "nome:  Bolachas Recheadas Coco Continente,Continente,emb. 100 gr 1.49 -> 1.89 -> €0,40\n",
      "nome:  Bolachas Recheadas Maçã,Continente,emb. 100 gr 1.49 -> 1.99 -> €0,50\n",
      "nome:  Snack Choco Wafer Minis,Continente,emb. 300 gr 1.49 -> 1.99 -> €0,50\n",
      "nome:  Bolachas Recheio Chocolate,Continente,emb. 250 gr 2.24 -> 2.49 -> €0,25\n",
      "nome:  Cereais Mix Choc Chocolate Branco,Continente,emb. 375 gr 0.89 -> 1.04 -> €0,15\n",
      "nome:  Bolachas com Coco,Continente,emb. 500 gr 1.49 -> 1.89 -> €0,40\n",
      "nome:  Snack Mix Vegetais Fritos em Azeite,Continente,emb. 70 gr 1.19 -> 1.59 -> €0,40\n",
      "nome:  Atum ao Natural,Cícero,emb. 110 gr 1.09 -> 1.39 -> €0,30\n",
      "nome:  Azeite Extra Virgem Vale do Sobreiro,Continente Seleção,garrafa 75 cl 0.69 -> 1.38 -> 50%\n",
      "nome:  Sobremesa Láctea Banana,Continente,emb. 4 x 100 gr 2.99 -> 3.49 -> €0,50\n",
      "nome:  Sobremesa Láctea Bolacha,Continente,emb. 4 x 100 gr 1.49 -> 1.99 -> €0,50\n",
      "nome:  Sobremesa Láctea Pêra,Continente,emb. 4 x 100 gr 1.49 -> 1.99 -> €0,50\n",
      "nome:  Sobremesa Láctea Alperce,Continente,emb. 4 x 100 gr 1.49 -> 1.99 -> €0,50\n",
      "nome:  Corn Flakes Açucarados,Continente Infantil,emb. 375 gr 1.49 -> 1.99 -> €0,50\n",
      "nome:  Azeite Extra Virgem,Arraial,garrafa 75 cl 1.49 -> 1.99 -> €0,50\n",
      "nome:  Batata Frita Lisa Sabor Hot & Spicy Madre Mia,Continente,emb. 135 gr 2.79 -> 2.99 -> €0,20\n",
      "nome:  Atum em Azeite,Cícero,emb. 110 gr 0.99 -> 1.39 -> €0,40\n",
      "nome:  Atum em Óleo,Cícero,emb. 110 gr 0.89 -> 1.78 -> 50%\n",
      "nome:  Atum em Azeite,Cícero,emb. 385 gr 0.69 -> 1.38 -> 50%\n",
      "nome:  Atum ao Natural,Cícero,emb. 385 gr 2.69 -> 5.38 -> 50%\n",
      "nome:  Atum em Óleo,Cícero,emb. 385 gr 2.34 -> 4.68 -> 50%\n",
      "nome:  Barras de Cereais com Chocolate Preto Crocante Clusters,Nestlé,emb. 140 gr 2.34 -> 4.68 -> 50%\n",
      "nome:  Barras de Cereais com Amendôas e Sementes Clusters,Nestlé,emb. 140 gr 2.24 -> 2.99 -> 25%\n",
      "nome:  Barras de Cereais com Caramelo e Chocolate Clusters,Nestlé,emb. 140 gr 2.24 -> 2.99 -> 25%\n",
      "nome:  Massa Fusilli,Divella,emb. 500 gr 2.24 -> 2.99 -> 25%\n",
      "nome:  Massa Esparguete 8,Divella,emb. 500 gr 0.97 -> 1.29 -> 25%\n",
      "nome:  Bolachas Palitos Chocolate Branco,Continente,emb. 150 gr 0.97 -> 1.29 -> 25%\n",
      "nome:  Bolachas Wafers de Baunilha,Continente Seleção,emb. 200 gr 0.79 -> 0.99 -> €0,20\n",
      "nome:  Sortido de Bolachas,Cuetara,emb. 420 gr 1.49 -> 1.64 -> €0,15\n",
      "nome:  Café Solúvel,Nescafé Clássico,emb. 200 gr 3.99 -> 4.69 -> 15%\n",
      "nome:  Chocolate Preto Mirtilo Vermelho e Cereja sem Glúten,Regina,emb. 100 gr 3.25 -> 6.49 -> 50%\n",
      "nome:  Infusão de Cidreira saquetas,Tetley,20 un 1.49 -> 1.99 -> 25%\n",
      "nome:  Infusão de Frutos Vermelhos saquetas,Tetley,10 un 1.35 -> 1.80 -> 25%\n",
      "nome:  Café Espresso Ristretto embalagem 16 Cápsulas,Nescafé Dolce Gusto,emb. 16 un 1.04 -> 1.39 -> 25%\n",
      "nome:  Azeite Extra Virgem Serra da Torre,Oliveira Da Serra,garrafa 75 cl 4.29 -> 5.79 -> €1,50\n",
      "nome:  Ketchup Top Down,Heinz,emb. 250 gr 3.89 -> 5.19 -> 25%\n",
      "nome:  Café Solúvel com Cafeína,Continente,emb. 10 x 2 gr 1.03 -> 1.59 -> 35%\n",
      "nome:  Café Solúvel com Cafeína,Continente,emb. 100 gr 0.60 -> 0.71 -> 15%\n",
      "nome:  Café Solúvel Selecionado,Continente,emb. 100 gr 1.44 -> 1.69 -> 15%\n",
      "nome:  Café Solúvel Expresso,Continente,emb. 80 gr 1.84 -> 2.17 -> 15%\n",
      "nome:  Bolachas Cobertura Chocolate Preto,Continente,emb. 150 gr 1.44 -> 1.69 -> 15%\n",
      "nome:  Biscoitos Lagartos,Continente,emb. 750 gr 0.97 -> 1.15 -> €0,18\n",
      "nome:  Café Solúvel com Cafeína,Continente,emb. 200 gr 2.29 -> 2.99 -> €0,70\n",
      "nome:  Papa Infantil Não Láctea Bolacha Maria +6 Meses,Cerelac,emb. 250 gr 2.80 -> 3.29 -> 15%\n",
      "nome:  Infusão Menta Pyramid,Lipton,20 un 1.57 -> 2.09 -> 25%\n",
      "nome:  Biscoitos de Cacau,Continente,emb. 750 gr 1.19 -> 1.59 -> 25%\n",
      "nome:  Polpa Tomate Cebola e Alho,Guloso,emb. 500 gr 1.75 -> 2.19 -> €0,44\n",
      "nome:  Bolo Bombon Chocolate,Donuts,4 un 0.97 -> 1.29 -> 25%\n",
      "nome:  Tablete Excellence Morango,Lindt,emb. 100 gr 1.29 -> 2.59 -> €1,30\n",
      "nome:  Nestum 5 Cereais com Cereais Integrais,Nestlé,emb. 250 gr 2.17 -> 2.89 -> 25%\n",
      "nome:  Leite e Cereais 8 Cereais e Mel +6 Meses,Cerelac,emb. 2 x 200 ml 1.16 -> 1.79 -> 35%\n",
      "nome:  Leite e Cereais Bolacha Maria +6 Meses,Cerelac,emb. 2 x 200 ml 1.57 -> 2.09 -> 25%\n",
      "nome:  Chocolate Leite e Avelã,Cadbury,emb. 200 gr 1.57 -> 2.09 -> 25%\n",
      "nome:  Nestum Mel com Cereais Integrais,Nestlé,emb. 250 gr 2.69 -> 3.59 -> €0,90\n",
      "nome:  Trufas Macadamia,Jacquot,emb. 200 gr 1.16 -> 1.79 -> 35%\n",
      "nome:  Salsichas Bockwurst,Izidoro,8 un 2.00 -> 3.99 -> 50%\n",
      "nome:  Bolo Recheio Cacau Americano,Donuts,2 un 1.60 -> 3.19 -> 50%\n",
      "nome:  Infusão Pick Me Up Frutos Silvestres saquetas,Tetley,20 un 0.69 -> 1.45 -> €0,76\n",
      "nome:  Bolachas Cacau com Recheio Creme,Continente,emb. 176 gr 2.02 -> 2.69 -> 25%\n",
      "nome:  Tisanas Cápsulas Refresh,Delta Q,emb. 10 un 0.70 -> 0.88 -> €0,18\n",
      "nome:  Tisanas Cápsulas Delight,Delta Q,emb. 10 un 2.77 -> 3.69 -> 25%\n",
      "nome:  Tisanas Cápsulas Relax,Delta Q,emb. 10 un 2.77 -> 3.69 -> 25%\n",
      "nome:  Chá Frutos Silvestres Pyramid,Lipton,20 un 2.77 -> 3.69 -> 25%\n",
      "nome:  Snacks Batata Queijo & Cebola,Pringles,emb. 190 gr 1.64 -> 2.19 -> 25%\n",
      "nome:  Snack Batatas Original,Pringles,emb. 190 gr 1.84 -> 2.49 -> 26%\n",
      "nome:  Snacks Batatas Hot & Spicy,Pringles,emb. 190 gr 1.84 -> 2.49 -> 26%\n"
     ]
    }
   ],
   "source": [
    "caracteristicas : list = driver.find_elements_by_class_name('containerDescription')\n",
    "for i in range(1, len(caracteristicas)):\n",
    "    preco_com_desconto : str = driver.find_element_by_xpath(('/html/body/form/div[3]/div[2]/div[1]/div[2]/table/tbody/tr/td/table/tbody/tr/td/div/div/div/div/div/div[2]/div[3]/div/div/div[{}]/div/div[1]/div[4]/div[1]/div[1]'.format(i)))\n",
    "    preco_com_desconto : str = preco_com_desconto.text.replace('€', '').replace('/un', '').replace(',', '.').replace(' ', '').replace('/kg','')\n",
    "    preco_sem_desconto : str = driver.find_element_by_xpath(('/html/body/form/div[3]/div[2]/div[1]/div[2]/table/tbody/tr/td/table/tbody/tr/td/div/div/div/div/div/div[2]/div[3]/div/div/div[{}]/div/div[1]/div[6]/div[2]/div[1]/div[1]'.format(i)))\n",
    "    preco_sem_desconto : str = preco_sem_desconto.text.replace('€', '').replace('/un', '').replace(',', '.').replace(' ', '').replace('/kg','')\n",
    "    desconto : str = driver.find_element_by_xpath(('/html/body/form/div[3]/div[2]/div[1]/div[2]/table/tbody/tr/td/table/tbody/tr/td/div/div/div/div/div/div[2]/div[3]/div/div/div[{}]/div/div[1]/div[6]/div[2]/div[2]/div[2]/span[3]').format(i)).text\n",
    "    print('nome: ', caracteristicas[i].text.replace('\\n', ','),preco_com_desconto , '->', preco_sem_desconto, '->', desconto)"
   ]
  }
 ],
 "metadata": {
  "kernelspec": {
   "display_name": "Python 3",
   "language": "python",
   "name": "python3"
  },
  "language_info": {
   "codemirror_mode": {
    "name": "ipython",
    "version": 3
   },
   "file_extension": ".py",
   "mimetype": "text/x-python",
   "name": "python",
   "nbconvert_exporter": "python",
   "pygments_lexer": "ipython3",
   "version": "3.6.8"
  }
 },
 "nbformat": 4,
 "nbformat_minor": 2
}
