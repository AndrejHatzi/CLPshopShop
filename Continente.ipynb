{
 "cells": [
  {
   "cell_type": "code",
   "execution_count": 1,
   "metadata": {},
   "outputs": [],
   "source": [
    "from selenium import webdriver\n",
    "from selenium.webdriver.common.keys import Keys\n",
    "from time import sleep\n",
    "import re, os, time\n",
    "#http://allselenium.info/python-selenium-commands-cheat-sheet-frequently-used/"
   ]
  },
  {
   "cell_type": "code",
   "execution_count": 2,
   "metadata": {},
   "outputs": [],
   "source": [
    "driver = webdriver.Firefox();"
   ]
  },
  {
   "cell_type": "code",
   "execution_count": 3,
   "metadata": {},
   "outputs": [],
   "source": [
    "driver.get('https://www.continente.pt/stores/continente/pt-pt/public/Pages/category.aspx?cat=Mercearia(eCsf_WebProductCatalog_MegastoreContinenteOnline_Continente_EUR_Colombo_PT)#/?pl=80')\n",
    "#driver.get('https://www.continente.pt/stores/continente/pt-pt/public/Pages/category.aspx?cat=bio-saudavel(eCsf_WebProductCatalog_MegastoreContinenteOnline_Continente_EUR_Colombo_PT)#');"
   ]
  },
  {
   "cell_type": "code",
   "execution_count": 4,
   "metadata": {},
   "outputs": [],
   "source": [
    "#driver.find_element_by_xpath('//li[@class=\"selected\"]//div[@class=\"text ecsfSortName\"]').click()\n",
    "#driver.find_element_by_css_selector('.orderOptions > ul:nth-child(1) > li:nth-child(6) > div:nth-child(1)').click()\n",
    "#driver.find_element_by_class_name('text ecsfSortName').click()\n",
    "driver.find_element_by_xpath('//div[@class=\"contentLeft\"]//ul//li[6]//div[1]').click()"
   ]
  },
  {
   "cell_type": "code",
   "execution_count": 22,
   "metadata": {},
   "outputs": [
    {
     "name": "stdout",
     "output_type": "stream",
     "text": [
      "https://www.continente.pt/stores/continente/pt-pt/public/Pages/ProductDetail.aspx?ProductId=5726871(eCsf_RetekProductCatalog_MegastoreContinenteOnline_Continente)&refiner=%23%2F%3Fpl%3D80\n",
      "['Massa Farfallete', 'Divella', 'emb. 500 gr']\n",
      "1.09\n"
     ]
    }
   ],
   "source": [
    "link : str = driver.find_element_by_class_name('ecsf_QuerySuggestions').get_attribute('href')\n",
    "caracteristicas : list = driver.find_element_by_class_name('containerDescription').text.split('\\n')\n",
    "preco : str = driver.find_element_by_class_name('priceFirstRow').text.replace('€', '').replace('/un', '')\n",
    "preco : str = preco.replace(',', '.').replace(' ', '')\n",
    "print(link)\n",
    "print(nome_produto)\n",
    "print(preco)"
   ]
  },
  {
   "cell_type": "code",
   "execution_count": 23,
   "metadata": {},
   "outputs": [],
   "source": [
    "#//div[@class='gridRow']//div[1]//div[1]//div[1]//div[6]//div[1]//div[1]//div[1] -- 1º Produto\n",
    "#//div[@class='gridRow']//div[2]//div[1]//div[1]//div[6]//div[1]//div[1]//div[1] -- 2º Produto\n",
    "#//div[@class='gridRow']//div[80]//div[1]//div[1]//div[6]//div[1]//div[1]//div[1] -- 80º Produto\n",
    "\n",
    "#/html[1]/body[1]/form[1]/div[3]/div[1]/div[3]/ul[1]/li[15]/div[2]/a[1]\n",
    "#/html[1]/body[1]/form[1]/div[3]/div[1]/div[3]/ul[1]/li[4]/div[2]/a[1]\n",
    "# /html[1]/body[1]/form[1]/div[3]/div[1]/div[3]/ul[1]/li[2]/div[2]/a[1]\n",
    "\n",
    "#/html/body/form/div[3]/div[1]/div[4]/ul/li[2]/div[2]/a\n",
    "\n",
    "\n",
    "#ahref -> /html/body/form/div[3]/div[1]/div[4]/ul/li[2]/div[4]/div/div[1]/ul/li[{}]/a"
   ]
  },
  {
   "cell_type": "code",
   "execution_count": 87,
   "metadata": {
    "scrolled": true
   },
   "outputs": [],
   "source": [
    "menu = driver.find_element_by_xpath(\"/html/body/form/div[3]/div[2]/div[1]/div[2]/table/tbody/tr/td/table/tbody/tr/td/div/div/div/div/div/div[2]/div[2]/div[1]/div[2]/ul/li[6]/div\")\n",
    "menu.click()"
   ]
  },
  {
   "cell_type": "code",
   "execution_count": 91,
   "metadata": {},
   "outputs": [],
   "source": [
    "categorias = ['https://www.continente.pt/stores/continente/pt-pt/public/Pages/category.aspx?cat=Mercearia(eCsf_WebProductCatalog_MegastoreContinenteOnline_Continente_EUR_Colombo_PT)#/?pl=80',\n",
    "              'https://www.continente.pt/stores/continente/pt-pt/public/Pages/category.aspx?cat=bio-saudavel(eCsf_WebProductCatalog_MegastoreContinenteOnline_Continente_EUR_Colombo_PT)#/?pl=80',\n",
    "              'https://www.continente.pt/stores/continente/pt-pt/public/Pages/category.aspx?cat=Frescos(eCsf_WebProductCatalog_MegastoreContinenteOnline_Continente_EUR_Colombo_PT)#/?pl=80',\n",
    "              'https://www.continente.pt/stores/continente/pt-pt/public/Pages/category.aspx?cat=Bebidas(eCsf_WebProductCatalog_MegastoreContinenteOnline_Continente_EUR_Colombo_PT)#/?pl=80',\n",
    "              'https://www.continente.pt/stores/continente/pt-pt/public/Pages/category.aspx?cat=Lactic%C3%ADnio(eCsf_WebProductCatalog_MegastoreContinenteOnline_Continente_EUR_Colombo_PT)#/?pl=80',\n",
    "              'https://www.continente.pt/stores/continente/pt-pt/public/Pages/category.aspx?cat=Congelados(eCsf_WebProductCatalog_MegastoreContinenteOnline_Continente_EUR_Colombo_PT)#/?pl=80',\n",
    "              'https://www.continente.pt/stores/continente/pt-pt/public/Pages/category.aspx?cat=Beb%C3%A9(eCsf_WebProductCatalog_MegastoreContinenteOnline_Continente_EUR_Colombo_PT)#/?pl=80',\n",
    "              'https://www.continente.pt/stores/continente/pt-pt/public/Pages/category.aspx?cat=Higiene(eCsf_WebProductCatalog_MegastoreContinenteOnline_Continente_EUR_Colombo_PT)#/?pl=80',\n",
    "              'https://www.continente.pt/stores/continente/pt-pt/public/Pages/category.aspx?cat=beleza(eCsf_WebProductCatalog_MegastoreContinenteOnline_Continente_EUR_Colombo_PT)#/?pl=80',\n",
    "              'https://www.continente.pt/stores/continente/pt-pt/public/Pages/category.aspx?cat=Limpeza(eCsf_WebProductCatalog_MegastoreContinenteOnline_Continente_EUR_Colombo_PT)#/?pl=80',\n",
    "              'https://www.continente.pt/stores/continente/pt-pt/public/Pages/category.aspx?cat=Lazer(eCsf_WebProductCatalog_MegastoreContinenteOnline_Continente_EUR_Colombo_PT)#/?pl=80']\n",
    "\n",
    "for i in range(len(categorias)):\n",
    "    driver.get(categorias[i])\n",
    "    #aba_descontos = driver.find_element_by_xpath(\"/html/body/form/div[3]/div[2]/div[1]/div[2]/table/tbody/tr/td/table/tbody/tr/td/div/div/div/div/div/div[2]/div[2]/div[1]/div[2]/ul/li[6]/div\")\n",
    "    #aba_descontos.click()\n",
    "    #time.sleep(20)\n",
    "    #caracteristicas : list = driver.find_elements_by_class_name('containerDescription')\n",
    "    #for i in range(1, len(caracteristicas)):\n",
    "    #    preco_com_desconto : str = driver.find_element_by_xpath(('/html/body/form/div[3]/div[2]/div[1]/div[2]/table/tbody/tr/td/table/tbody/tr/td/div/div/div/div/div/div[2]/div[3]/div/div/div[{}]/div/div[1]/div[4]/div[1]/div[1]'.format(i)))\n",
    "    #    preco_com_desconto : str = preco_com_desconto.text.replace('€', '').replace('/un', '').replace(',', '.').replace(' ', '').replace('/kg','')\n",
    "    #    preco_sem_desconto : str = driver.find_element_by_xpath(('/html/body/form/div[3]/div[2]/div[1]/div[2]/table/tbody/tr/td/table/tbody/tr/td/div/div/div/div/div/div[2]/div[3]/div/div/div[{}]/div/div[1]/div[6]/div[2]/div[1]/div[1]'.format(i)))\n",
    "    #    preco_sem_desconto : str = preco_sem_desconto.text.replace('€', '').replace('/un', '').replace(',', '.').replace(' ', '').replace('/kg','')\n",
    "    #    desconto : str = driver.find_element_by_xpath(('/html/body/form/div[3]/div[2]/div[1]/div[2]/table/tbody/tr/td/table/tbody/tr/td/div/div/div/div/div/div[2]/div[3]/div/div/div[{}]/div/div[1]/div[6]/div[2]/div[2]/div[2]/span[3]').format(i)).text\n",
    "    #    print('nome: ', caracteristicas[i].text.replace('\\n', ','),preco_com_desconto , '->', preco_sem_desconto, '->', desconto)"
   ]
  },
  {
   "cell_type": "code",
   "execution_count": 25,
   "metadata": {},
   "outputs": [],
   "source": [
    "#for e in range(2, 16):\n",
    "#    btn = driver.find\n",
    "#/html/body/form/div[3]/div[1]/div[3]/ul/li[2]/div[4]/div/div[1]/ul/li[1]/a\n",
    "btn = driver.find_elements_by_class_name('center')\n",
    "for i in range(len(btn)):\n",
    "    try:\n",
    "        btn[i].click()\n",
    "    except:\n",
    "        pass\n",
    "#btn_todos = driver.find_element_by_class_name('menu-title')\n",
    "#print(btn_todos.click())"
   ]
  },
  {
   "cell_type": "code",
   "execution_count": 47,
   "metadata": {},
   "outputs": [
    {
     "name": "stdout",
     "output_type": "stream",
     "text": [
      "None\n",
      "[]\n"
     ]
    }
   ],
   "source": [
    "btn_btn = driver.find_element_by_class_name('level-1').get_attribute('href')\n",
    "print(btn_btn)\n",
    "element = driver.find_elements_by_partial_link_text(\"/stores/continente/pt-pt/public/Pages/category.aspx?cat=\")\n",
    "print(element)\n",
    "#for btn in btn_btn:\n",
    "#    print(btn.get_attribute('href'))"
   ]
  },
  {
   "cell_type": "code",
   "execution_count": null,
   "metadata": {},
   "outputs": [],
   "source": [
    "def retirar_produtos() -> None:\n",
    "    "
   ]
  },
  {
   "cell_type": "code",
   "execution_count": 5,
   "metadata": {},
   "outputs": [
    {
     "name": "stdout",
     "output_type": "stream",
     "text": [
      "nome:  Ananás em Calda,Benimar,emb. 810 gr 1.09 -> 1.45 -> 25%\n",
      "nome:  Batata Frita Ondulada com Sabor Molho Valentina Madre Mia,Continente,emb. 135 gr 1.99 -> 2.39 -> €0,40\n",
      "nome:  Fantasia Chocolate Moedas Saco,Disney,emb. 50 gr 0.99 -> 1.39 -> €0,40\n",
      "nome:  Marmelada,Casa Da Prisca,1 un = 200 gr 1.00 -> 1.99 -> 50%\n",
      "nome:  Batata Frita Ondulada com Sabor a Alho Madre Mia,Continente,emb. 135 gr 5.59 -> 6.99 -> 20%\n",
      "nome:  Massa Tagliatelle com Ovo,Divella,emb. 500 gr 0.99 -> 1.39 -> €0,40\n",
      "nome:  Cenoura Ralada Vinagre,Continente,emb. 345 gr 1.79 -> 2.39 -> 25%\n",
      "nome:  Corações de Alcachofra,Continente,emb. 390 gr 0.99 -> 1.19 -> €0,20\n",
      "nome:  Massa Penne Zit Rigate,Divella,emb. 500 gr 1.89 -> 2.09 -> €0,20\n",
      "nome:  Massa Sedani Rigati,Massimo,emb. 500 gr 0.97 -> 1.29 -> 25%\n",
      "nome:  Massa Bavettine,Divella,emb. 500 gr 0.44 -> 0.89 -> €0,45\n",
      "nome:  Massa Lasanha com Ovo,Divella,emb. 500 gr 0.97 -> 1.29 -> 25%\n",
      "nome:  Bolachas Recheadas Coco Continente,Continente,emb. 100 gr 1.87 -> 2.49 -> 25%\n",
      "nome:  Bolachas Recheadas Maçã,Continente,emb. 100 gr 1.49 -> 1.99 -> €0,50\n",
      "nome:  Snack Choco Wafer Minis,Continente,emb. 300 gr 1.49 -> 1.99 -> €0,50\n",
      "nome:  Bolachas Recheio Chocolate,Continente,emb. 250 gr 2.24 -> 2.49 -> €0,25\n",
      "nome:  Cereais Mix Choc Chocolate Branco,Continente,emb. 375 gr 0.89 -> 1.04 -> €0,15\n",
      "nome:  Bolachas com Coco,Continente,emb. 500 gr 1.49 -> 1.89 -> €0,40\n",
      "nome:  Cereais Estrelinhas Chocolate,Continente,emb. 375 gr 1.19 -> 1.59 -> €0,40\n",
      "nome:  Snack Mix Vegetais Fritos em Azeite,Continente,emb. 70 gr 1.49 -> 1.89 -> €0,40\n",
      "nome:  Azeite Extra Virgem,Arraial,garrafa 75 cl 1.09 -> 1.39 -> €0,30\n",
      "nome:  Corn Flakes Açucarados,Continente Infantil,emb. 375 gr 2.79 -> 2.99 -> €0,20\n",
      "nome:  Azeite Extra Virgem Vale do Sobreiro,Continente Seleção,garrafa 75 cl 1.49 -> 1.99 -> €0,50\n",
      "nome:  Atum em Azeite,Cícero,emb. 110 gr 2.99 -> 3.49 -> €0,50\n",
      "nome:  Atum em Óleo,Cícero,emb. 110 gr 0.89 -> 1.78 -> 50%\n",
      "nome:  Atum em Azeite,Cícero,emb. 385 gr 0.69 -> 1.38 -> 50%\n",
      "nome:  Atum ao Natural,Cícero,emb. 385 gr 2.69 -> 5.38 -> 50%\n",
      "nome:  Atum em Óleo,Cícero,emb. 385 gr 2.34 -> 4.68 -> 50%\n",
      "nome:  Batata Frita Lisa Sabor Hot & Spicy Madre Mia,Continente,emb. 135 gr 2.34 -> 4.68 -> 50%\n",
      "nome:  Atum ao Natural,Cícero,emb. 110 gr 0.99 -> 1.39 -> €0,40\n",
      "nome:  Sobremesa Láctea Banana,Continente,emb. 4 x 100 gr 0.69 -> 1.38 -> 50%\n",
      "nome:  Sobremesa Láctea Bolacha,Continente,emb. 4 x 100 gr 1.49 -> 1.99 -> €0,50\n",
      "nome:  Sobremesa Láctea Pêra,Continente,emb. 4 x 100 gr 1.49 -> 1.99 -> €0,50\n",
      "nome:  Sobremesa Láctea Alperce,Continente,emb. 4 x 100 gr 1.49 -> 1.99 -> €0,50\n",
      "nome:  Barras de Cereais com Chocolate Preto Crocante Clusters,Nestlé,emb. 140 gr 1.49 -> 1.99 -> €0,50\n",
      "nome:  Barras de Cereais com Amendôas e Sementes Clusters,Nestlé,emb. 140 gr 2.24 -> 2.99 -> 25%\n",
      "nome:  Barras de Cereais com Caramelo e Chocolate Clusters,Nestlé,emb. 140 gr 2.24 -> 2.99 -> 25%\n",
      "nome:  Chocolate Preto Mirtilo Vermelho e Cereja sem Glúten,Regina,emb. 100 gr 2.24 -> 2.99 -> 25%\n",
      "nome:  Bolachas Wafers de Baunilha,Continente Seleção,emb. 200 gr 1.49 -> 1.99 -> 25%\n",
      "nome:  Bolachas Palitos Chocolate Branco,Continente,emb. 150 gr 1.49 -> 1.64 -> €0,15\n",
      "nome:  Café Solúvel,Nescafé Clássico,emb. 200 gr 0.79 -> 0.99 -> €0,20\n",
      "nome:  Massa Fusilli,Divella,emb. 500 gr 3.25 -> 6.49 -> 50%\n",
      "nome:  Massa Esparguete 8,Divella,emb. 500 gr 0.97 -> 1.29 -> 25%\n",
      "nome:  Sortido de Bolachas,Cuetara,emb. 420 gr 0.97 -> 1.29 -> 25%\n",
      "nome:  Achocolatado em pó Nesquik,Nestlé,emb. 390 gr 3.99 -> 4.69 -> 15%\n",
      "nome:  Bolachas Cookies XL Choco,Milka,emb. 184 gr 2.19 -> 3.19 -> €1,00\n",
      "nome:  Chá Preto Yellow Label,Lipton,10 un 1.94 -> 2.59 -> 25%\n",
      "nome:  Biscoitos Amêndoa,Continente,emb. 350 gr 0.50 -> 0.99 -> 50%\n",
      "nome:  Caldo Molho Cervejeira,Knorr,8 un 1.99 -> 2.34 -> €0,35\n",
      "nome:  Café Lote Rossio Moagem Única,Nicola,emb. 250 gr 1.10 -> 1.69 -> 35%\n",
      "nome:  Chá Detox Saquetas,Ahmad,20 un 1.18 -> 1.82 -> 35%\n",
      "nome:  Salsichas Porco 100% sem Glúten Frasco,Izidoro,emb. 430 gr 2.99 -> 3.99 -> 25%\n",
      "nome:  Salsichas Peru 100% sem Glúten Frasco,Izidoro,emb. 430 gr 1.38 -> 2.75 -> 50%\n",
      "nome:  Doce Abóbora Temporada,Casa Mateus,emb. 325 gr 1.38 -> 2.75 -> 50%\n",
      "nome:  Pêssego Calda Metades,Continente,emb. 840 gr 2.17 -> 2.89 -> 25%\n",
      "nome:  Palitos Chocolate Leite,Continente,emb. 150 gr 1.09 -> 1.18 -> €0,09\n",
      "nome:  Tablete de Chocolate Negro Flor de Sal,Lindt,emb. 100 gr 0.79 -> 0.99 -> €0,20\n",
      "nome:  Tablete de Chocolate 70% Cacau,Regina,emb. 100 gr 2.17 -> 2.89 -> 25%\n",
      "nome:  Vinagre Balsâmico,Continente,emb. 250 ml 1.49 -> 1.99 -> 25%\n",
      "nome:  Bombons Nougat I Love,Milka,emb. 110 gr 2.09 -> 2.49 -> €0,40\n",
      "nome:  Molho Francesinha,Guloso,emb. 500 gr 2.24 -> 2.99 -> 25%\n",
      "nome:  Café Lote Selecto Aromático Moagem Única,Nicola,emb. 250 gr 1.94 -> 2.99 -> €1,05\n",
      "nome:  Café Lote Bocage Moagem Única,Nicola,emb. 250 gr 1.92 -> 2.95 -> 35%\n",
      "nome:  Café Lote Bocage Torra Intensa Moagem Única,Nicola,emb. 250 gr 1.79 -> 2.75 -> 35%\n",
      "nome:  Tablete Chocolate com Bolacha Chips Ahoy,Milka,emb. 100 gr 1.78 -> 2.74 -> 35%\n",
      "nome:  Azeite Extra Virgem Spray,Oliveira Da Serra,garrafa 0,20 lt 1.19 -> 1.59 -> 25%\n",
      "nome:  Óleo Alimentar Spray & Go,Fula,emb. 200 ml 1.99 -> 2.69 -> €0,70\n",
      "nome:  Bolachas Manteiga Palets Bretons,Continente,emb. 125 gr 1.49 -> 1.99 -> 25%\n",
      "nome:  Sanck Batatas Presunto,Pringles,emb. 190 gr 1.59 -> 1.99 -> €0,40\n",
      "nome:  Tablete Chocolate 55% Cacau com Laranja,Lacasa,emb. 100 gr 1.84 -> 2.49 -> 26%\n",
      "nome:  Leite Condensado Magro Cozido,Nestlé,emb. 387 gr 1.49 -> 1.99 -> 25%\n",
      "nome:  Bombons Sortidos Chocolate com Recheio,Continente,emb. 200 gr 1.27 -> 1.69 -> 25%\n",
      "nome:  Óleo de Girassol,Fula,emb. 3 lt 2.39 -> 2.99 -> €0,60\n",
      "nome:  Farinha de Coco Biológica,Seara,emb. 250 gr 4.49 -> 5.99 -> 25%\n",
      "nome:  Tablete de Chocolate Leite com Caramelo,Nestlé,emb. 100 gr 1.86 -> 2.49 -> €0,63\n",
      "nome:  Tablete de Chocolate Preto com Trufa,Nestlé,emb. 100 gr 1.04 -> 1.39 -> 25%\n",
      "nome:  Arroz Extra Médio Branqueado Sushi,Caçarola,emb. 1 kg 1.04 -> 1.39 -> 25%\n",
      "nome:  Óleo Alimentar,Fula,emb. 2 lt 1.49 -> 1.99 -> 25%\n",
      "nome:  Azeite Extra Virgem Oliveirinha,Oliveira Da Serra,garrafa 50 cl 3.19 -> 4.28 -> €1,09\n"
     ]
    }
   ],
   "source": [
    "caracteristicas : list = driver.find_elements_by_class_name('containerDescription')\n",
    "for i in range(1, len(caracteristicas)):\n",
    "    preco_com_desconto : str = driver.find_element_by_xpath(('/html/body/form/div[3]/div[2]/div[1]/div[2]/table/tbody/tr/td/table/tbody/tr/td/div/div/div/div/div/div[2]/div[3]/div/div/div[{}]/div/div[1]/div[4]/div[1]/div[1]'.format(i)))\n",
    "    preco_com_desconto : str = preco_com_desconto.text.replace('€', '').replace('/un', '').replace(',', '.').replace(' ', '').replace('/kg','')\n",
    "    preco_sem_desconto : str = driver.find_element_by_xpath(('/html/body/form/div[3]/div[2]/div[1]/div[2]/table/tbody/tr/td/table/tbody/tr/td/div/div/div/div/div/div[2]/div[3]/div/div/div[{}]/div/div[1]/div[6]/div[2]/div[1]/div[1]'.format(i)))\n",
    "    preco_sem_desconto : str = preco_sem_desconto.text.replace('€', '').replace('/un', '').replace(',', '.').replace(' ', '').replace('/kg','')\n",
    "    desconto : str = driver.find_element_by_xpath(('/html/body/form/div[3]/div[2]/div[1]/div[2]/table/tbody/tr/td/table/tbody/tr/td/div/div/div/div/div/div[2]/div[3]/div/div/div[{}]/div/div[1]/div[6]/div[2]/div[2]/div[2]/span[3]').format(i)).text\n",
    "    print('nome: ', caracteristicas[i].text.replace('\\n', ','),preco_com_desconto , '->', preco_sem_desconto, '->', desconto)"
   ]
  }
 ],
 "metadata": {
  "kernelspec": {
   "display_name": "Python 3",
   "language": "python",
   "name": "python3"
  },
  "language_info": {
   "codemirror_mode": {
    "name": "ipython",
    "version": 3
   },
   "file_extension": ".py",
   "mimetype": "text/x-python",
   "name": "python",
   "nbconvert_exporter": "python",
   "pygments_lexer": "ipython3",
   "version": "3.6.8"
  }
 },
 "nbformat": 4,
 "nbformat_minor": 2
}
